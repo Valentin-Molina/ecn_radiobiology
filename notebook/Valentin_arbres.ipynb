{
 "cells": [
  {
   "cell_type": "code",
   "execution_count": 3,
   "id": "304169cd-8294-4c57-b42e-5726857df5b4",
   "metadata": {},
   "outputs": [],
   "source": [
    "import numpy as np # linear algebra\n",
    "import pandas as pd # data processing, CSV file I/O (e.g. pd.read_csv)\n",
    "\n",
    "# Input data files are available in the read-only \"../input/\" directory\n",
    "# For example, running this (by clicking run or pressing Shift+Enter) will list all files under the input directory"
   ]
  },
  {
   "cell_type": "code",
   "execution_count": 4,
   "id": "18637704-0659-45fc-aa76-8a889a79fb3d",
   "metadata": {},
   "outputs": [
    {
     "name": "stdout",
     "output_type": "stream",
     "text": [
      "../input/glioblastoma-radiosensitivity-dataset/glioblastoma_data/extracted_data/cell_behaviors/videos_transcriptions_csv\n"
     ]
    }
   ],
   "source": [
    "path = '../input/glioblastoma-radiosensitivity-dataset/glioblastoma_data/extracted_data/cell_behaviors/videos_transcriptions_csv'\n",
    "print(path)"
   ]
  },
  {
   "cell_type": "code",
   "execution_count": 6,
   "id": "d3b47458-43ca-417f-a8ae-ba0c0f2845b2",
   "metadata": {},
   "outputs": [],
   "source": [
    "def import_files(path):\n",
    "    struc = pd.DataFrame(columns =[\"radiation_level\", \"path\",\"code_file\",\"group\"])\n",
    "    read = os.walk(path)\n",
    "    for root, dirs, files in read:\n",
    "        for name in files:\n",
    "            if name.endswith(\".csv\"):\n",
    "                #print(name)\n",
    "                radiation = name.split(\"gy\")\n",
    "                [_,group,_] = name.split(\"_\") \n",
    "                filepath = path+ '/' + name\n",
    "                code_file = name[:-4] #removing suffix\n",
    "                \n",
    "                struc = struc.append({\"radiation_level\" : int(radiation[0]), \"path\" : filepath, \"code_file\" : code_file, \"group\" : group}, ignore_index=True)\n",
    "                \n",
    "    return struc"
   ]
  },
  {
   "cell_type": "code",
   "execution_count": 7,
   "id": "359cb9e2-d502-411a-beb4-6fc383ff7266",
   "metadata": {},
   "outputs": [],
   "source": [
    "def str_to_numpy(input_str):\n",
    "    \"\"\"\n",
    "    str_to_numpy is used to parse the columns \"input\" and \"output\" of the dataset csv files.\n",
    "    It converts a string representing an array of cells to a numpy array containing strings\n",
    "    which are the names of these cells.\n",
    "    \"\"\"\n",
    "    process_str = input_str.replace(\"[\", \"\")\n",
    "    process_str = process_str.replace(\"'\", \"\")\n",
    "    process_str = process_str.replace(\" \", \"\")\n",
    "    process_str = process_str.replace(\"]\", \"\")\n",
    "    if(process_str != \"\"):\n",
    "        process_str = process_str.split(\",\")\n",
    "        output_array = np.asarray(process_str, dtype=str)\n",
    "    else:\n",
    "        output_array = np.asarray([], dtype=str)\n",
    "    return output_array"
   ]
  },
  {
   "cell_type": "code",
   "execution_count": 8,
   "id": "272cea9b-ff16-467f-92f3-8d2a6e43f4e3",
   "metadata": {},
   "outputs": [
    {
     "data": {
      "text/html": [
       "<div>\n",
       "<style scoped>\n",
       "    .dataframe tbody tr th:only-of-type {\n",
       "        vertical-align: middle;\n",
       "    }\n",
       "\n",
       "    .dataframe tbody tr th {\n",
       "        vertical-align: top;\n",
       "    }\n",
       "\n",
       "    .dataframe thead th {\n",
       "        text-align: right;\n",
       "    }\n",
       "</style>\n",
       "<table border=\"1\" class=\"dataframe\">\n",
       "  <thead>\n",
       "    <tr style=\"text-align: right;\">\n",
       "      <th></th>\n",
       "      <th>time</th>\n",
       "      <th>event</th>\n",
       "      <th>input</th>\n",
       "      <th>output</th>\n",
       "    </tr>\n",
       "  </thead>\n",
       "  <tbody>\n",
       "    <tr>\n",
       "      <th>0</th>\n",
       "      <td>0</td>\n",
       "      <td>begin</td>\n",
       "      <td>[]</td>\n",
       "      <td>[C1]</td>\n",
       "    </tr>\n",
       "    <tr>\n",
       "      <th>1</th>\n",
       "      <td>66</td>\n",
       "      <td>div</td>\n",
       "      <td>[C1]</td>\n",
       "      <td>[C1.1, C1.2]</td>\n",
       "    </tr>\n",
       "    <tr>\n",
       "      <th>2</th>\n",
       "      <td>238</td>\n",
       "      <td>div</td>\n",
       "      <td>[C1.1]</td>\n",
       "      <td>[C1.1.1, C1.1.2]</td>\n",
       "    </tr>\n",
       "    <tr>\n",
       "      <th>3</th>\n",
       "      <td>386</td>\n",
       "      <td>div</td>\n",
       "      <td>[C1.1.1]</td>\n",
       "      <td>[C1.1.1.1, C1.1.1.2]</td>\n",
       "    </tr>\n",
       "    <tr>\n",
       "      <th>4</th>\n",
       "      <td>432</td>\n",
       "      <td>end</td>\n",
       "      <td>[C1.1.1.1]</td>\n",
       "      <td>[]</td>\n",
       "    </tr>\n",
       "  </tbody>\n",
       "</table>\n",
       "</div>"
      ],
      "text/plain": [
       "   time  event       input                output\n",
       "0     0  begin          []                  [C1]\n",
       "1    66    div        [C1]          [C1.1, C1.2]\n",
       "2   238    div      [C1.1]      [C1.1.1, C1.1.2]\n",
       "3   386    div    [C1.1.1]  [C1.1.1.1, C1.1.1.2]\n",
       "4   432    end  [C1.1.1.1]                    []"
      ]
     },
     "execution_count": 8,
     "metadata": {},
     "output_type": "execute_result"
    }
   ],
   "source": [
    "file = path + \"/0gy_n1_201104.nd2u2510Gy1A.csv\"\n",
    "data = pd.read_csv(file, converters = {\"input\" : str_to_numpy, \"output\" : str_to_numpy}) #imports a dataframe from a csv \n",
    "                  # and converts its string components to numpy\n",
    "data.head()"
   ]
  },
  {
   "cell_type": "code",
   "execution_count": null,
   "id": "4fb99087-6db4-4130-b0f4-a61f68eea987",
   "metadata": {},
   "outputs": [],
   "source": []
  },
  {
   "cell_type": "markdown",
   "metadata": {},
   "source": [
    "## Algorithm :\n",
    "\n",
    "We suppose that trees do not merge.\n",
    "\n",
    "1. List begin events -> give us the root cells for each tree\n",
    "2. Group together cells which contains the name of previous cells (\"C1\" and \"C1.1\" e.g.)\n",
    "   1. Create a DataFrame with [root_cell, cell_name, time, event, input, ouput]"
   ]
  },
  {
   "cell_type": "code",
   "execution_count": null,
   "id": "414be32b-a3e5-4bf1-a64e-18de7aef6a77",
   "metadata": {},
   "outputs": [],
   "source": [
    "def cells_to_trees(data_frame):\n",
    "    trees = pd.DataFrame(columns =[\"tree_id\", \"cells\"])\n",
    "    for idx in date_frame.index:\n",
    "        path = data_frame.loc[idx,'path']\n",
    "        file_name = data_frame.loc[idx,'code_file']\n",
    "        file_path = path + \"/\"+ file_name + \".csv\"\n",
    "        experience = pd.read_csv(file_path, converters = {\"input\" : str_to_numpy, \"output\" : str_to_numpy})\n",
    "        \n",
    "                                        "
   ]
  },
  {
   "cell_type": "code",
   "execution_count": 14,
   "metadata": {},
   "outputs": [
    {
     "data": {
      "text/plain": [
       "[]"
      ]
     },
     "execution_count": 14,
     "metadata": {},
     "output_type": "execute_result"
    }
   ],
   "source": [
    "# Testing function :\n",
    "\n",
    "def event_test(row):\n",
    "    \"\"\"\n",
    "    Test an event to check if it represents a merge\n",
    "    between two trees.\n",
    "    Return the root_cells of the trees that merge if it is the case.\n",
    "    \"\"\"\n",
    "    l = []\n",
    "    if(row.input.size < 2):\n",
    "        return l\n",
    "    for i in range(1, row.input.size):\n",
    "        if(row.input[i-1][1] != row.input[i][1]):\n",
    "            l.append(row.input[i-1])\n",
    "            l.append(row.input[i])\n",
    "    return l\n",
    "    \n",
    "\n",
    "def test(trees):\n",
    "    \"\"\"\n",
    "    This function test all the trees in the input DataFrame\n",
    "    to check if they don't merge with another three.\n",
    "    Return the root_cells of the trees that merge in the experiment.\n",
    "    \"\"\"\n",
    "    root_cells = []\n",
    "    for l in trees.apply(event_test, axis=1):\n",
    "        if len(l) != 0 :\n",
    "            for cell in l:\n",
    "                if not (cell[0:2] in root_cells):\n",
    "                    root_cells.append(cell[0:2])\n",
    "    return root_cells\n",
    "\n",
    "test(data)"
   ]
  }
 ],
 "metadata": {
  "interpreter": {
   "hash": "31f2aee4e71d21fbe5cf8b01ff0e069b9275f58929596ceb00d14d90e3e16cd6"
  },
  "kernelspec": {
   "display_name": "Python 3.8.10 64-bit",
   "name": "python3"
  },
  "language_info": {
   "codemirror_mode": {
    "name": "ipython",
    "version": 3
   },
   "file_extension": ".py",
   "mimetype": "text/x-python",
   "name": "python",
   "nbconvert_exporter": "python",
   "pygments_lexer": "ipython3",
   "version": "3.8.10"
  }
 },
 "nbformat": 4,
 "nbformat_minor": 5
}
