{
 "cells": [
  {
   "cell_type": "code",
   "execution_count": 3,
   "id": "304169cd-8294-4c57-b42e-5726857df5b4",
   "metadata": {},
   "outputs": [],
   "source": [
    "import numpy as np # linear algebra\n",
    "import pandas as pd # data processing, CSV file I/O (e.g. pd.read_csv)\n",
    "import os\n",
    "\n",
    "# Input data files are available in the read-only \"../input/\" directory\n",
    "# For example, running this (by clicking run or pressing Shift+Enter) will list all files under the input directory"
   ]
  },
  {
   "cell_type": "code",
   "execution_count": 4,
   "id": "18637704-0659-45fc-aa76-8a889a79fb3d",
   "metadata": {},
   "outputs": [
    {
     "name": "stdout",
     "output_type": "stream",
     "text": [
      "../input/glioblastoma-radiosensitivity-dataset/glioblastoma_data/extracted_data/cell_behaviors/videos_transcriptions_csv\n"
     ]
    }
   ],
   "source": [
    "path = '../input/glioblastoma-radiosensitivity-dataset/glioblastoma_data/extracted_data/cell_behaviors/videos_transcriptions_csv'\n",
    "print(path)"
   ]
  },
  {
   "cell_type": "code",
   "execution_count": 5,
   "id": "d3b47458-43ca-417f-a8ae-ba0c0f2845b2",
   "metadata": {},
   "outputs": [],
   "source": [
    "def import_files(path):\n",
    "    struc = pd.DataFrame(columns =[\"radiation_level\", \"path\",\"code_file\",\"group\"])\n",
    "    read = os.walk(path)\n",
    "    for root, dirs, files in read:\n",
    "        for name in files:\n",
    "            if name.endswith(\".csv\"):\n",
    "                #print(name)\n",
    "                radiation = name.split(\"gy\")\n",
    "                [_,group,_] = name.split(\"_\") \n",
    "                filepath = path+ '/' + name\n",
    "                code_file = name[:-4] #removing suffix\n",
    "                \n",
    "                struc = struc.append({\"radiation_level\" : int(radiation[0]), \"path\" : filepath, \"code_file\" : code_file, \"group\" : group}, ignore_index=True)\n",
    "                \n",
    "    return struc"
   ]
  },
  {
   "cell_type": "code",
   "execution_count": 7,
   "id": "359cb9e2-d502-411a-beb4-6fc383ff7266",
   "metadata": {},
   "outputs": [],
   "source": [
    "def str_to_numpy(input_str):\n",
    "    \"\"\"\n",
    "    str_to_numpy is used to parse the columns \"input\" and \"output\" of the dataset csv files.\n",
    "    It converts a string representing an array of cells to a numpy array containing strings\n",
    "    which are the names of these cells.\n",
    "    \"\"\"\n",
    "    process_str = input_str.replace(\"[\", \"\")\n",
    "    process_str = process_str.replace(\"'\", \"\")\n",
    "    process_str = process_str.replace(\" \", \"\")\n",
    "    process_str = process_str.replace(\"]\", \"\")\n",
    "    if(process_str != \"\"):\n",
    "        process_str = process_str.split(\",\")\n",
    "        output_array = np.asarray(process_str, dtype=str)\n",
    "    else:\n",
    "        output_array = np.asarray([], dtype=str)\n",
    "    return output_array"
   ]
  },
  {
   "cell_type": "code",
   "execution_count": 8,
   "id": "272cea9b-ff16-467f-92f3-8d2a6e43f4e3",
   "metadata": {},
   "outputs": [
    {
     "data": {
      "text/html": [
       "<div>\n",
       "<style scoped>\n",
       "    .dataframe tbody tr th:only-of-type {\n",
       "        vertical-align: middle;\n",
       "    }\n",
       "\n",
       "    .dataframe tbody tr th {\n",
       "        vertical-align: top;\n",
       "    }\n",
       "\n",
       "    .dataframe thead th {\n",
       "        text-align: right;\n",
       "    }\n",
       "</style>\n",
       "<table border=\"1\" class=\"dataframe\">\n",
       "  <thead>\n",
       "    <tr style=\"text-align: right;\">\n",
       "      <th></th>\n",
       "      <th>time</th>\n",
       "      <th>event</th>\n",
       "      <th>input</th>\n",
       "      <th>output</th>\n",
       "    </tr>\n",
       "  </thead>\n",
       "  <tbody>\n",
       "    <tr>\n",
       "      <th>0</th>\n",
       "      <td>0</td>\n",
       "      <td>begin</td>\n",
       "      <td>[]</td>\n",
       "      <td>[C1]</td>\n",
       "    </tr>\n",
       "    <tr>\n",
       "      <th>1</th>\n",
       "      <td>66</td>\n",
       "      <td>div</td>\n",
       "      <td>[C1]</td>\n",
       "      <td>[C1.1, C1.2]</td>\n",
       "    </tr>\n",
       "    <tr>\n",
       "      <th>2</th>\n",
       "      <td>238</td>\n",
       "      <td>div</td>\n",
       "      <td>[C1.1]</td>\n",
       "      <td>[C1.1.1, C1.1.2]</td>\n",
       "    </tr>\n",
       "    <tr>\n",
       "      <th>3</th>\n",
       "      <td>386</td>\n",
       "      <td>div</td>\n",
       "      <td>[C1.1.1]</td>\n",
       "      <td>[C1.1.1.1, C1.1.1.2]</td>\n",
       "    </tr>\n",
       "    <tr>\n",
       "      <th>4</th>\n",
       "      <td>432</td>\n",
       "      <td>end</td>\n",
       "      <td>[C1.1.1.1]</td>\n",
       "      <td>[]</td>\n",
       "    </tr>\n",
       "  </tbody>\n",
       "</table>\n",
       "</div>"
      ],
      "text/plain": [
       "   time  event       input                output\n",
       "0     0  begin          []                  [C1]\n",
       "1    66    div        [C1]          [C1.1, C1.2]\n",
       "2   238    div      [C1.1]      [C1.1.1, C1.1.2]\n",
       "3   386    div    [C1.1.1]  [C1.1.1.1, C1.1.1.2]\n",
       "4   432    end  [C1.1.1.1]                    []"
      ]
     },
     "execution_count": 8,
     "metadata": {},
     "output_type": "execute_result"
    }
   ],
   "source": [
    "file = path + \"/0gy_n1_201104.nd2u2510Gy1A.csv\"\n",
    "data = pd.read_csv(file, converters = {\"input\" : str_to_numpy, \"output\" : str_to_numpy}) #imports a dataframe from a csv \n",
    "                  # and converts its string components to numpy\n",
    "data.head()\n",
    "\n"
   ]
  },
  {
   "cell_type": "markdown",
   "metadata": {},
   "source": [
    "## Algorithm :\n",
    "\n",
    "We suppose that trees do not merge.\n",
    "\n",
    "1. List begin events -> give us the root cells for each tree\n",
    "2. Group together cells which contains the name of previous cells (\"C1\" and \"C1.1\" e.g.)\n",
    "   1. Create a DataFrame with [root_cell, cell_name, time, event, input, ouput]"
   ]
  },
  {
   "cell_type": "code",
   "execution_count": 9,
   "id": "4fb99087-6db4-4130-b0f4-a61f68eea987",
   "metadata": {},
   "outputs": [
    {
     "data": {
      "text/plain": [
       "0     [C1]\n",
       "16    [C2]\n",
       "23    [C3]\n",
       "39    [C4]\n",
       "49    [C5]\n",
       "Name: output, dtype: object"
      ]
     },
     "execution_count": 9,
     "metadata": {},
     "output_type": "execute_result"
    }
   ],
   "source": [
    "roots = data.loc[data.event == 'begin'].output\n",
    "roots.head()"
   ]
  },
  {
   "cell_type": "code",
   "execution_count": 10,
   "metadata": {},
   "outputs": [],
   "source": [
    "class tree:\n",
    "    cells = pd.DataFrame(columns = [\"root_cell\", \"cell_name\", \"time\",\"event\",\"input\",\"output\"])\n",
    "    def __init__(self):\n",
    "        self.cells = pd.DataFrame(columns = [\"root_cell\", \"cell_name\", \"time\",\"event\",\"input\",\"output\"])\n",
    "    \n"
   ]
  },
  {
   "cell_type": "code",
   "execution_count": 20,
   "metadata": {},
   "outputs": [],
   "source": [
    "def root_cell_test(row, root): #Tests if the row corresponds to the root cell\n",
    "    if row.input[0].startswith(root):\n",
    "        return True\n",
    "    return False\n",
    "\n",
    "\n",
    "\n",
    "def cells_to_trees(experience): #experience is a DataFrame\n",
    "    #Select root cells in experience\n",
    "    root_cells = experience.loc[experience.event == 'begin'].output \n",
    "\n",
    "    #Creation of a tree corresponding to the experience\n",
    "    trees = tree()\n",
    "    for root in root_cells:\n",
    "        exp_bis = experience[\"input\" != \"begin\"]\n",
    "        f = lambda x:root_cell_test(row, root)\n",
    "        root_cell = exp_bis[]\n",
    "        trees.cells.append({\"root_cell\" : root, \"cell_name\" : root_cell.input[0], \n",
    "        \"time\" : root_cell.time,\"event\" : root_cell.event,\"input\" : root_cell.input,\"output\" : root_cell.output}, ignore_index=True)\n",
    "    return trees"
   ]
  },
  {
   "cell_type": "code",
   "execution_count": 21,
   "metadata": {},
   "outputs": [
    {
     "ename": "AttributeError",
     "evalue": "'list' object has no attribute 'startswith'",
     "output_type": "error",
     "traceback": [
      "\u001b[1;31m---------------------------------------------------------------------------\u001b[0m",
      "\u001b[1;31mAttributeError\u001b[0m                            Traceback (most recent call last)",
      "\u001b[1;32m~\\AppData\\Local\\Temp/ipykernel_8220/1648540449.py\u001b[0m in \u001b[0;36m<module>\u001b[1;34m\u001b[0m\n\u001b[0;32m      4\u001b[0m \u001b[1;33m\u001b[0m\u001b[0m\n\u001b[0;32m      5\u001b[0m \u001b[1;33m\u001b[0m\u001b[0m\n\u001b[1;32m----> 6\u001b[1;33m \u001b[0mtrees\u001b[0m \u001b[1;33m=\u001b[0m \u001b[0mcells_to_trees\u001b[0m\u001b[1;33m(\u001b[0m\u001b[0mexperience\u001b[0m\u001b[1;33m)\u001b[0m\u001b[1;33m\u001b[0m\u001b[1;33m\u001b[0m\u001b[0m\n\u001b[0m\u001b[0;32m      7\u001b[0m \u001b[1;33m\u001b[0m\u001b[0m\n\u001b[0;32m      8\u001b[0m \u001b[0mtrees\u001b[0m\u001b[1;33m.\u001b[0m\u001b[0mcells\u001b[0m\u001b[1;33m.\u001b[0m\u001b[0mhead\u001b[0m\u001b[1;33m(\u001b[0m\u001b[1;33m)\u001b[0m\u001b[1;33m\u001b[0m\u001b[1;33m\u001b[0m\u001b[0m\n",
      "\u001b[1;32m~\\AppData\\Local\\Temp/ipykernel_8220/3883281973.py\u001b[0m in \u001b[0;36mcells_to_trees\u001b[1;34m(experience)\u001b[0m\n\u001b[0;32m      6\u001b[0m     \u001b[0mtrees\u001b[0m \u001b[1;33m=\u001b[0m \u001b[0mtree\u001b[0m\u001b[1;33m(\u001b[0m\u001b[1;33m)\u001b[0m\u001b[1;33m\u001b[0m\u001b[1;33m\u001b[0m\u001b[0m\n\u001b[0;32m      7\u001b[0m     \u001b[1;32mfor\u001b[0m \u001b[0mroot\u001b[0m \u001b[1;32min\u001b[0m \u001b[0mroot_cells\u001b[0m\u001b[1;33m:\u001b[0m\u001b[1;33m\u001b[0m\u001b[1;33m\u001b[0m\u001b[0m\n\u001b[1;32m----> 8\u001b[1;33m         \u001b[0mroot_cell\u001b[0m \u001b[1;33m=\u001b[0m \u001b[0mexperience\u001b[0m\u001b[1;33m[\u001b[0m\u001b[1;33m[\u001b[0m\u001b[0mexperience\u001b[0m\u001b[1;33m.\u001b[0m\u001b[0minput\u001b[0m\u001b[1;33m]\u001b[0m\u001b[1;33m.\u001b[0m\u001b[0mstartswith\u001b[0m\u001b[1;33m(\u001b[0m\u001b[0mroot\u001b[0m\u001b[1;33m)\u001b[0m\u001b[1;33m]\u001b[0m\u001b[1;33m\u001b[0m\u001b[1;33m\u001b[0m\u001b[0m\n\u001b[0m\u001b[0;32m      9\u001b[0m         trees.cells.append({\"root_cell\" : root, \"cell_name\" : root_cell.input, \n\u001b[0;32m     10\u001b[0m         \"time\" : root_cell.time,\"event\" : root_cell.event,\"input\" : root_cell.input,\"output\" : root_cell.output}, ignore_index=True)\n",
      "\u001b[1;31mAttributeError\u001b[0m: 'list' object has no attribute 'startswith'"
     ]
    }
   ],
   "source": [
    "#TEST\n",
    "\n",
    "experience = pd.read_csv(file, converters = {\"input\" : str_to_numpy, \"output\" : str_to_numpy})\n",
    "\n",
    "\n",
    "trees = cells_to_trees(experience)\n",
    "\n",
    "trees.cells.head()\n"
   ]
  },
  {
   "cell_type": "code",
   "execution_count": 1,
   "id": "414be32b-a3e5-4bf1-a64e-18de7aef6a77",
   "metadata": {},
   "outputs": [],
   "source": [
    "def list_of_trees(data_frame):\n",
    "    trees_list = pd.DataFrame(columns =[\"tree_id\", \"tree\"])\n",
    "    for idx in data_frame.index:\n",
    "\n",
    "        #Select experience correspondingto index idx\n",
    "        path = data_frame.loc[idx,'path']\n",
    "        file_name = data_frame.loc[idx,'code_file']\n",
    "        file_path = path + \"/\"+ file_name + \".csv\"\n",
    "        experience = pd.read_csv(file_path, converters = {\"input\" : str_to_numpy, \"output\" : str_to_numpy})\n",
    "\n",
    "        trees = cells_to_trees(experience)\n",
    "        \n",
    "        #Add experience trees to the list of all trees\n",
    "        trees_list.append({\"tree_id\" : })"
   ]
  }
 ],
 "metadata": {
  "interpreter": {
   "hash": "0ccfb106e8d688d294023d4f33b02c261a96ce88928f6658262bab2f14008662"
  },
  "kernelspec": {
   "display_name": "Python 3.10.0 64-bit",
   "name": "python3"
  },
  "language_info": {
   "codemirror_mode": {
    "name": "ipython",
    "version": 3
   },
   "file_extension": ".py",
   "mimetype": "text/x-python",
   "name": "python",
   "nbconvert_exporter": "python",
   "pygments_lexer": "ipython3",
   "version": "3.10.0"
  }
 },
 "nbformat": 4,
 "nbformat_minor": 5
}
