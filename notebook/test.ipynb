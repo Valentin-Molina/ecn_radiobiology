{
 "cells": [
  {
   "cell_type": "code",
   "execution_count": 2,
   "id": "da09ad7b-e1b4-4a9a-b17d-ea5b924b6158",
   "metadata": {},
   "outputs": [
    {
     "name": "stdout",
     "output_type": "stream",
     "text": [
      "Requirement already satisfied: pandas in /home/momo/.local/lib/python3.8/site-packages (1.3.3)\n",
      "Requirement already satisfied: numpy in /home/momo/.local/lib/python3.8/site-packages (1.21.1)\n",
      "Requirement already satisfied: pytz>=2017.3 in /usr/lib/python3/dist-packages (from pandas) (2019.3)\n",
      "Requirement already satisfied: python-dateutil>=2.7.3 in /usr/lib/python3/dist-packages (from pandas) (2.7.3)\n",
      "Note: you may need to restart the kernel to use updated packages.\n"
     ]
    }
   ],
   "source": [
    "pip install pandas numpy"
   ]
  },
  {
   "cell_type": "code",
   "execution_count": 1,
   "id": "a0e10317-9518-49e3-958d-8cc37bf1963a",
   "metadata": {},
   "outputs": [
    {
     "name": "stdout",
     "output_type": "stream",
     "text": [
      "Setup complete.\n"
     ]
    }
   ],
   "source": [
    "import numpy as np\n",
    "import pandas as pd\n",
    "import matplotlib.pyplot as plt\n",
    "print(\"Setup complete.\")"
   ]
  },
  {
   "cell_type": "markdown",
   "id": "2a6275fc-6b61-496b-a6c4-e1eac7383d60",
   "metadata": {},
   "source": [
    "# Testing notebook used to understand the dataset structure."
   ]
  },
  {
   "cell_type": "code",
   "execution_count": 8,
   "id": "3a675de7-5f5d-43d0-919e-46712faf81a7",
   "metadata": {},
   "outputs": [],
   "source": [
    "def str_to_numpy(input_str):\n",
    "    \"\"\"\n",
    "    str_to_numpy is used to parse the columns \"input\" and \"output\" of the dataset csv files.\n",
    "    It converts a string representing an array of cells to a numpy array containing strings\n",
    "    which are the names of these cells.\n",
    "    \"\"\"\n",
    "    process_str = input_str.replace(\"[\", \"\")\n",
    "    process_str = process_str.replace(\"'\", \"\")\n",
    "    process_str = process_str.replace(\" \", \"\")\n",
    "    process_str = process_str.replace(\"]\", \"\")\n",
    "    if(process_str != \"\"):\n",
    "        process_str = process_str.split(\",\")\n",
    "        output_array = np.asarray(process_str, dtype=str)\n",
    "    else:\n",
    "        output_array = np.asarray([], dtype=str)\n",
    "    return output_array"
   ]
  },
  {
   "cell_type": "code",
   "execution_count": 3,
   "id": "13ee629e-1a43-4730-9285-f0a88a46531b",
   "metadata": {},
   "outputs": [
    {
     "data": {
      "text/html": [
       "<div>\n",
       "<style scoped>\n",
       "    .dataframe tbody tr th:only-of-type {\n",
       "        vertical-align: middle;\n",
       "    }\n",
       "\n",
       "    .dataframe tbody tr th {\n",
       "        vertical-align: top;\n",
       "    }\n",
       "\n",
       "    .dataframe thead th {\n",
       "        text-align: right;\n",
       "    }\n",
       "</style>\n",
       "<table border=\"1\" class=\"dataframe\">\n",
       "  <thead>\n",
       "    <tr style=\"text-align: right;\">\n",
       "      <th></th>\n",
       "      <th>time</th>\n",
       "      <th>event</th>\n",
       "      <th>input</th>\n",
       "      <th>output</th>\n",
       "    </tr>\n",
       "  </thead>\n",
       "  <tbody>\n",
       "    <tr>\n",
       "      <th>0</th>\n",
       "      <td>0</td>\n",
       "      <td>begin</td>\n",
       "      <td>[]</td>\n",
       "      <td>[C1]</td>\n",
       "    </tr>\n",
       "    <tr>\n",
       "      <th>1</th>\n",
       "      <td>66</td>\n",
       "      <td>div</td>\n",
       "      <td>[C1]</td>\n",
       "      <td>[C1.1, C1.2]</td>\n",
       "    </tr>\n",
       "    <tr>\n",
       "      <th>2</th>\n",
       "      <td>238</td>\n",
       "      <td>div</td>\n",
       "      <td>[C1.1]</td>\n",
       "      <td>[C1.1.1, C1.1.2]</td>\n",
       "    </tr>\n",
       "    <tr>\n",
       "      <th>3</th>\n",
       "      <td>386</td>\n",
       "      <td>div</td>\n",
       "      <td>[C1.1.1]</td>\n",
       "      <td>[C1.1.1.1, C1.1.1.2]</td>\n",
       "    </tr>\n",
       "    <tr>\n",
       "      <th>4</th>\n",
       "      <td>432</td>\n",
       "      <td>end</td>\n",
       "      <td>[C1.1.1.1]</td>\n",
       "      <td>[]</td>\n",
       "    </tr>\n",
       "  </tbody>\n",
       "</table>\n",
       "</div>"
      ],
      "text/plain": [
       "   time  event       input                output\n",
       "0     0  begin          []                  [C1]\n",
       "1    66    div        [C1]          [C1.1, C1.2]\n",
       "2   238    div      [C1.1]      [C1.1.1, C1.1.2]\n",
       "3   386    div    [C1.1.1]  [C1.1.1.1, C1.1.1.2]\n",
       "4   432    end  [C1.1.1.1]                    []"
      ]
     },
     "execution_count": 3,
     "metadata": {},
     "output_type": "execute_result"
    }
   ],
   "source": [
    "file = '../input/glioblastoma-radiosensitivity-dataset/glioblastoma_data/extracted_data/cell_behaviors/videos_transcriptions_csv/0gy_n1_201104.nd2u2510GyA3A.csv'\n",
    "data = pd.read_csv(file, converters = {\"input\" : str_to_numpy, \"output\" : str_to_numpy})\n",
    "\n",
    "data.head()"
   ]
  },
  {
   "cell_type": "markdown",
   "id": "b8fc060c-f531-4928-870c-95d355c6cff2",
   "metadata": {},
   "source": [
    "The data aren't sorted in function of time."
   ]
  },
  {
   "cell_type": "code",
   "execution_count": 31,
   "id": "ed6a7f77-80d1-4bd4-849f-05c6f1e5714d",
   "metadata": {},
   "outputs": [
    {
     "data": {
      "text/html": [
       "<div>\n",
       "<style scoped>\n",
       "    .dataframe tbody tr th:only-of-type {\n",
       "        vertical-align: middle;\n",
       "    }\n",
       "\n",
       "    .dataframe tbody tr th {\n",
       "        vertical-align: top;\n",
       "    }\n",
       "\n",
       "    .dataframe thead th {\n",
       "        text-align: right;\n",
       "    }\n",
       "</style>\n",
       "<table border=\"1\" class=\"dataframe\">\n",
       "  <thead>\n",
       "    <tr style=\"text-align: right;\">\n",
       "      <th></th>\n",
       "      <th>time</th>\n",
       "      <th>event</th>\n",
       "      <th>input</th>\n",
       "      <th>output</th>\n",
       "    </tr>\n",
       "  </thead>\n",
       "  <tbody>\n",
       "    <tr>\n",
       "      <th>0</th>\n",
       "      <td>0</td>\n",
       "      <td>begin</td>\n",
       "      <td>[]</td>\n",
       "      <td>[C1]</td>\n",
       "    </tr>\n",
       "    <tr>\n",
       "      <th>49</th>\n",
       "      <td>0</td>\n",
       "      <td>begin</td>\n",
       "      <td>[]</td>\n",
       "      <td>[C5]</td>\n",
       "    </tr>\n",
       "    <tr>\n",
       "      <th>111</th>\n",
       "      <td>0</td>\n",
       "      <td>begin</td>\n",
       "      <td>[]</td>\n",
       "      <td>[C8]</td>\n",
       "    </tr>\n",
       "    <tr>\n",
       "      <th>23</th>\n",
       "      <td>0</td>\n",
       "      <td>begin</td>\n",
       "      <td>[]</td>\n",
       "      <td>[C3]</td>\n",
       "    </tr>\n",
       "    <tr>\n",
       "      <th>16</th>\n",
       "      <td>0</td>\n",
       "      <td>begin</td>\n",
       "      <td>[]</td>\n",
       "      <td>[C2]</td>\n",
       "    </tr>\n",
       "  </tbody>\n",
       "</table>\n",
       "</div>"
      ],
      "text/plain": [
       "     time  event input output\n",
       "0       0  begin    []   [C1]\n",
       "49      0  begin    []   [C5]\n",
       "111     0  begin    []   [C8]\n",
       "23      0  begin    []   [C3]\n",
       "16      0  begin    []   [C2]"
      ]
     },
     "execution_count": 31,
     "metadata": {},
     "output_type": "execute_result"
    }
   ],
   "source": [
    "data.sort_values(by=\"time\").head()"
   ]
  },
  {
   "cell_type": "code",
   "execution_count": 5,
   "id": "aa14603f-8b65-47ec-86ab-315939cddeb1",
   "metadata": {},
   "outputs": [
    {
     "data": {
      "text/html": [
       "<div>\n",
       "<style scoped>\n",
       "    .dataframe tbody tr th:only-of-type {\n",
       "        vertical-align: middle;\n",
       "    }\n",
       "\n",
       "    .dataframe tbody tr th {\n",
       "        vertical-align: top;\n",
       "    }\n",
       "\n",
       "    .dataframe thead th {\n",
       "        text-align: right;\n",
       "    }\n",
       "</style>\n",
       "<table border=\"1\" class=\"dataframe\">\n",
       "  <thead>\n",
       "    <tr style=\"text-align: right;\">\n",
       "      <th></th>\n",
       "      <th>event</th>\n",
       "      <th>input</th>\n",
       "      <th>output</th>\n",
       "    </tr>\n",
       "  </thead>\n",
       "  <tbody>\n",
       "    <tr>\n",
       "      <th>count</th>\n",
       "      <td>125</td>\n",
       "      <td>125</td>\n",
       "      <td>125</td>\n",
       "    </tr>\n",
       "    <tr>\n",
       "      <th>unique</th>\n",
       "      <td>6</td>\n",
       "      <td>117</td>\n",
       "      <td>65</td>\n",
       "    </tr>\n",
       "    <tr>\n",
       "      <th>top</th>\n",
       "      <td>end</td>\n",
       "      <td>[]</td>\n",
       "      <td>[]</td>\n",
       "    </tr>\n",
       "    <tr>\n",
       "      <th>freq</th>\n",
       "      <td>59</td>\n",
       "      <td>9</td>\n",
       "      <td>61</td>\n",
       "    </tr>\n",
       "  </tbody>\n",
       "</table>\n",
       "</div>"
      ],
      "text/plain": [
       "       event input output\n",
       "count    125   125    125\n",
       "unique     6   117     65\n",
       "top      end    []     []\n",
       "freq      59     9     61"
      ]
     },
     "execution_count": 5,
     "metadata": {},
     "output_type": "execute_result"
    }
   ],
   "source": [
    "data.describe(include=[object])"
   ]
  },
  {
   "cell_type": "code",
   "execution_count": 6,
   "id": "df3ac5bb-7399-4562-94d2-e335726dba67",
   "metadata": {},
   "outputs": [
    {
     "data": {
      "text/html": [
       "<div>\n",
       "<style scoped>\n",
       "    .dataframe tbody tr th:only-of-type {\n",
       "        vertical-align: middle;\n",
       "    }\n",
       "\n",
       "    .dataframe tbody tr th {\n",
       "        vertical-align: top;\n",
       "    }\n",
       "\n",
       "    .dataframe thead th {\n",
       "        text-align: right;\n",
       "    }\n",
       "</style>\n",
       "<table border=\"1\" class=\"dataframe\">\n",
       "  <thead>\n",
       "    <tr style=\"text-align: right;\">\n",
       "      <th></th>\n",
       "      <th>time</th>\n",
       "      <th>event</th>\n",
       "      <th>input</th>\n",
       "      <th>output</th>\n",
       "    </tr>\n",
       "  </thead>\n",
       "  <tbody>\n",
       "    <tr>\n",
       "      <th>count</th>\n",
       "      <td>125.00000</td>\n",
       "      <td>125</td>\n",
       "      <td>125</td>\n",
       "      <td>125</td>\n",
       "    </tr>\n",
       "    <tr>\n",
       "      <th>unique</th>\n",
       "      <td>NaN</td>\n",
       "      <td>6</td>\n",
       "      <td>117</td>\n",
       "      <td>65</td>\n",
       "    </tr>\n",
       "    <tr>\n",
       "      <th>top</th>\n",
       "      <td>NaN</td>\n",
       "      <td>end</td>\n",
       "      <td>[]</td>\n",
       "      <td>[]</td>\n",
       "    </tr>\n",
       "    <tr>\n",
       "      <th>freq</th>\n",
       "      <td>NaN</td>\n",
       "      <td>59</td>\n",
       "      <td>9</td>\n",
       "      <td>61</td>\n",
       "    </tr>\n",
       "    <tr>\n",
       "      <th>mean</th>\n",
       "      <td>328.94400</td>\n",
       "      <td>NaN</td>\n",
       "      <td>NaN</td>\n",
       "      <td>NaN</td>\n",
       "    </tr>\n",
       "    <tr>\n",
       "      <th>std</th>\n",
       "      <td>147.00051</td>\n",
       "      <td>NaN</td>\n",
       "      <td>NaN</td>\n",
       "      <td>NaN</td>\n",
       "    </tr>\n",
       "    <tr>\n",
       "      <th>min</th>\n",
       "      <td>0.00000</td>\n",
       "      <td>NaN</td>\n",
       "      <td>NaN</td>\n",
       "      <td>NaN</td>\n",
       "    </tr>\n",
       "    <tr>\n",
       "      <th>25%</th>\n",
       "      <td>256.00000</td>\n",
       "      <td>NaN</td>\n",
       "      <td>NaN</td>\n",
       "      <td>NaN</td>\n",
       "    </tr>\n",
       "    <tr>\n",
       "      <th>50%</th>\n",
       "      <td>414.00000</td>\n",
       "      <td>NaN</td>\n",
       "      <td>NaN</td>\n",
       "      <td>NaN</td>\n",
       "    </tr>\n",
       "    <tr>\n",
       "      <th>75%</th>\n",
       "      <td>432.00000</td>\n",
       "      <td>NaN</td>\n",
       "      <td>NaN</td>\n",
       "      <td>NaN</td>\n",
       "    </tr>\n",
       "    <tr>\n",
       "      <th>max</th>\n",
       "      <td>432.00000</td>\n",
       "      <td>NaN</td>\n",
       "      <td>NaN</td>\n",
       "      <td>NaN</td>\n",
       "    </tr>\n",
       "  </tbody>\n",
       "</table>\n",
       "</div>"
      ],
      "text/plain": [
       "             time event input output\n",
       "count   125.00000   125   125    125\n",
       "unique        NaN     6   117     65\n",
       "top           NaN   end    []     []\n",
       "freq          NaN    59     9     61\n",
       "mean    328.94400   NaN   NaN    NaN\n",
       "std     147.00051   NaN   NaN    NaN\n",
       "min       0.00000   NaN   NaN    NaN\n",
       "25%     256.00000   NaN   NaN    NaN\n",
       "50%     414.00000   NaN   NaN    NaN\n",
       "75%     432.00000   NaN   NaN    NaN\n",
       "max     432.00000   NaN   NaN    NaN"
      ]
     },
     "execution_count": 6,
     "metadata": {},
     "output_type": "execute_result"
    }
   ],
   "source": [
    "data.describe(include=\"all\")"
   ]
  },
  {
   "cell_type": "markdown",
   "id": "566accb5-c049-429d-b529-6b8d25e5ddde",
   "metadata": {},
   "source": [
    "## Testing \"end\" event :"
   ]
  },
  {
   "cell_type": "code",
   "execution_count": 7,
   "id": "cf43de6c-4cd3-43ad-9a07-cb6ccada8dc5",
   "metadata": {},
   "outputs": [
    {
     "data": {
      "text/html": [
       "<div>\n",
       "<style scoped>\n",
       "    .dataframe tbody tr th:only-of-type {\n",
       "        vertical-align: middle;\n",
       "    }\n",
       "\n",
       "    .dataframe tbody tr th {\n",
       "        vertical-align: top;\n",
       "    }\n",
       "\n",
       "    .dataframe thead th {\n",
       "        text-align: right;\n",
       "    }\n",
       "</style>\n",
       "<table border=\"1\" class=\"dataframe\">\n",
       "  <thead>\n",
       "    <tr style=\"text-align: right;\">\n",
       "      <th></th>\n",
       "      <th>time</th>\n",
       "      <th>event</th>\n",
       "      <th>input</th>\n",
       "      <th>output</th>\n",
       "    </tr>\n",
       "  </thead>\n",
       "  <tbody>\n",
       "    <tr>\n",
       "      <th>4</th>\n",
       "      <td>432</td>\n",
       "      <td>end</td>\n",
       "      <td>[C1.1.1.1]</td>\n",
       "      <td>[]</td>\n",
       "    </tr>\n",
       "    <tr>\n",
       "      <th>5</th>\n",
       "      <td>432</td>\n",
       "      <td>end</td>\n",
       "      <td>[C1.1.1.2]</td>\n",
       "      <td>[]</td>\n",
       "    </tr>\n",
       "    <tr>\n",
       "      <th>7</th>\n",
       "      <td>432</td>\n",
       "      <td>end</td>\n",
       "      <td>[C1.1.2.1]</td>\n",
       "      <td>[]</td>\n",
       "    </tr>\n",
       "    <tr>\n",
       "      <th>8</th>\n",
       "      <td>432</td>\n",
       "      <td>end</td>\n",
       "      <td>[C1.1.2.2]</td>\n",
       "      <td>[]</td>\n",
       "    </tr>\n",
       "    <tr>\n",
       "      <th>11</th>\n",
       "      <td>432</td>\n",
       "      <td>end</td>\n",
       "      <td>[C1.2.1.1]</td>\n",
       "      <td>[]</td>\n",
       "    </tr>\n",
       "  </tbody>\n",
       "</table>\n",
       "</div>"
      ],
      "text/plain": [
       "    time event       input output\n",
       "4    432   end  [C1.1.1.1]     []\n",
       "5    432   end  [C1.1.1.2]     []\n",
       "7    432   end  [C1.1.2.1]     []\n",
       "8    432   end  [C1.1.2.2]     []\n",
       "11   432   end  [C1.2.1.1]     []"
      ]
     },
     "execution_count": 7,
     "metadata": {},
     "output_type": "execute_result"
    }
   ],
   "source": [
    "endTest = data[data[\"event\"] == \"end\"]\n",
    "endTest.head()"
   ]
  },
  {
   "cell_type": "code",
   "execution_count": 8,
   "id": "05ed23ba-3fd4-4f97-8588-09064165c051",
   "metadata": {},
   "outputs": [
    {
     "data": {
      "text/plain": [
       "count             59\n",
       "unique            59\n",
       "top       [C1.1.1.1]\n",
       "freq               1\n",
       "Name: input, dtype: object"
      ]
     },
     "execution_count": 8,
     "metadata": {},
     "output_type": "execute_result"
    }
   ],
   "source": [
    "endTest.input.describe()"
   ]
  },
  {
   "cell_type": "markdown",
   "id": "9f64e5d0-8986-4e73-8800-866421950400",
   "metadata": {},
   "source": [
    "The \"end\" event means that one cell dies (only one at a time)."
   ]
  },
  {
   "cell_type": "markdown",
   "id": "cca6a551-a85b-4387-bafb-1ff93c81e013",
   "metadata": {},
   "source": [
    "## Testing \"fusion\" event"
   ]
  },
  {
   "cell_type": "code",
   "execution_count": 9,
   "id": "1e99a94d-99ab-4f31-be4d-b8d58be3bc94",
   "metadata": {},
   "outputs": [
    {
     "data": {
      "text/html": [
       "<div>\n",
       "<style scoped>\n",
       "    .dataframe tbody tr th:only-of-type {\n",
       "        vertical-align: middle;\n",
       "    }\n",
       "\n",
       "    .dataframe tbody tr th {\n",
       "        vertical-align: top;\n",
       "    }\n",
       "\n",
       "    .dataframe thead th {\n",
       "        text-align: right;\n",
       "    }\n",
       "</style>\n",
       "<table border=\"1\" class=\"dataframe\">\n",
       "  <thead>\n",
       "    <tr style=\"text-align: right;\">\n",
       "      <th></th>\n",
       "      <th>time</th>\n",
       "      <th>event</th>\n",
       "      <th>input</th>\n",
       "      <th>output</th>\n",
       "    </tr>\n",
       "  </thead>\n",
       "  <tbody>\n",
       "    <tr>\n",
       "      <th>18</th>\n",
       "      <td>153</td>\n",
       "      <td>fusion</td>\n",
       "      <td>[C2.1, C2.2]</td>\n",
       "      <td>[C2.3]</td>\n",
       "    </tr>\n",
       "    <tr>\n",
       "      <th>113</th>\n",
       "      <td>104</td>\n",
       "      <td>fusion</td>\n",
       "      <td>[C8.1, C8.2]</td>\n",
       "      <td>[C8.3]</td>\n",
       "    </tr>\n",
       "  </tbody>\n",
       "</table>\n",
       "</div>"
      ],
      "text/plain": [
       "     time   event         input  output\n",
       "18    153  fusion  [C2.1, C2.2]  [C2.3]\n",
       "113   104  fusion  [C8.1, C8.2]  [C8.3]"
      ]
     },
     "execution_count": 9,
     "metadata": {},
     "output_type": "execute_result"
    }
   ],
   "source": [
    "fusionTest = data[data[\"event\"] == \"fusion\"]\n",
    "fusionTest.head()"
   ]
  },
  {
   "cell_type": "code",
   "execution_count": 10,
   "id": "01e4737f-25e0-4748-976e-a7b685bdb2a0",
   "metadata": {},
   "outputs": [
    {
     "data": {
      "text/plain": [
       "count                2\n",
       "unique               2\n",
       "top       [C2.1, C2.2]\n",
       "freq                 1\n",
       "Name: input, dtype: object"
      ]
     },
     "execution_count": 10,
     "metadata": {},
     "output_type": "execute_result"
    }
   ],
   "source": [
    "fusionTest.input.describe()"
   ]
  },
  {
   "cell_type": "markdown",
   "id": "82651def-4b82-4775-84f3-b39055189838",
   "metadata": {},
   "source": [
    "The \"fusion\" event means that there is one cell less. (only two cells fusion)"
   ]
  },
  {
   "cell_type": "markdown",
   "id": "1fd25fa1-e6c4-4d2d-a63b-019a9bcf66cf",
   "metadata": {},
   "source": [
    "## Testing \"div\" event"
   ]
  },
  {
   "cell_type": "code",
   "execution_count": 11,
   "id": "a42e8a79-3c3f-42c0-98a6-16775fff32de",
   "metadata": {},
   "outputs": [
    {
     "data": {
      "text/html": [
       "<div>\n",
       "<style scoped>\n",
       "    .dataframe tbody tr th:only-of-type {\n",
       "        vertical-align: middle;\n",
       "    }\n",
       "\n",
       "    .dataframe tbody tr th {\n",
       "        vertical-align: top;\n",
       "    }\n",
       "\n",
       "    .dataframe thead th {\n",
       "        text-align: right;\n",
       "    }\n",
       "</style>\n",
       "<table border=\"1\" class=\"dataframe\">\n",
       "  <thead>\n",
       "    <tr style=\"text-align: right;\">\n",
       "      <th></th>\n",
       "      <th>time</th>\n",
       "      <th>event</th>\n",
       "      <th>input</th>\n",
       "      <th>output</th>\n",
       "    </tr>\n",
       "  </thead>\n",
       "  <tbody>\n",
       "    <tr>\n",
       "      <th>1</th>\n",
       "      <td>66</td>\n",
       "      <td>div</td>\n",
       "      <td>[C1]</td>\n",
       "      <td>[C1.1, C1.2]</td>\n",
       "    </tr>\n",
       "    <tr>\n",
       "      <th>2</th>\n",
       "      <td>238</td>\n",
       "      <td>div</td>\n",
       "      <td>[C1.1]</td>\n",
       "      <td>[C1.1.1, C1.1.2]</td>\n",
       "    </tr>\n",
       "    <tr>\n",
       "      <th>3</th>\n",
       "      <td>386</td>\n",
       "      <td>div</td>\n",
       "      <td>[C1.1.1]</td>\n",
       "      <td>[C1.1.1.1, C1.1.1.2]</td>\n",
       "    </tr>\n",
       "    <tr>\n",
       "      <th>6</th>\n",
       "      <td>386</td>\n",
       "      <td>div</td>\n",
       "      <td>[C1.1.2]</td>\n",
       "      <td>[C1.1.2.1, C1.1.2.2]</td>\n",
       "    </tr>\n",
       "    <tr>\n",
       "      <th>9</th>\n",
       "      <td>259</td>\n",
       "      <td>div</td>\n",
       "      <td>[C1.2]</td>\n",
       "      <td>[C1.2.1, C1.2.2]</td>\n",
       "    </tr>\n",
       "  </tbody>\n",
       "</table>\n",
       "</div>"
      ],
      "text/plain": [
       "   time event     input                output\n",
       "1    66   div      [C1]          [C1.1, C1.2]\n",
       "2   238   div    [C1.1]      [C1.1.1, C1.1.2]\n",
       "3   386   div  [C1.1.1]  [C1.1.1.1, C1.1.1.2]\n",
       "6   386   div  [C1.1.2]  [C1.1.2.1, C1.1.2.2]\n",
       "9   259   div    [C1.2]      [C1.2.1, C1.2.2]"
      ]
     },
     "execution_count": 11,
     "metadata": {},
     "output_type": "execute_result"
    }
   ],
   "source": [
    "divTest = data[data[\"event\"] == \"div\"]\n",
    "divTest.head()"
   ]
  },
  {
   "cell_type": "code",
   "execution_count": 12,
   "id": "1911842e-2952-4bf5-8a87-3bab5f697df5",
   "metadata": {},
   "outputs": [
    {
     "data": {
      "text/plain": [
       "count               53\n",
       "unique              53\n",
       "top       [C1.1, C1.2]\n",
       "freq                 1\n",
       "Name: output, dtype: object"
      ]
     },
     "execution_count": 12,
     "metadata": {},
     "output_type": "execute_result"
    }
   ],
   "source": [
    "divTest.output.describe()"
   ]
  },
  {
   "cell_type": "code",
   "execution_count": 4,
   "id": "832341c7-aea1-4cfe-b414-013b847ebe7b",
   "metadata": {},
   "outputs": [],
   "source": [
    "def biomass(row):\n",
    "    nb_in = row.input.size\n",
    "    nb_out = row.output.size\n",
    "    biomass.last = biomass.last + (nb_out - nb_in)\n",
    "    row[\"cellAlive\"] = biomass.last\n",
    "    return row\n",
    "biomass.last = 0"
   ]
  },
  {
   "cell_type": "code",
   "execution_count": 9,
   "id": "e338159e-a79e-46f1-9038-5af7eba64efb",
   "metadata": {},
   "outputs": [],
   "source": [
    "#data.sort_values(by=\"time\")\n",
    "biomass.last = 0\n",
    "timeSeries = data[data[\"event\"] != \"end\"].sort_values(by=\"time\").apply(biomass, axis=1).groupby(\"time\").agg({\"cellAlive\" : [\"max\"]}).reset_index()\n"
   ]
  },
  {
   "cell_type": "code",
   "execution_count": 10,
   "id": "b14bd77d-5b20-40db-a9a0-095523cb05b6",
   "metadata": {},
   "outputs": [
    {
     "data": {
      "image/png": "[encoded data removed]",
      "text/plain": [
       "<Figure size 432x288 with 1 Axes>"
      ]
     },
     "metadata": {
      "needs_background": "light"
     },
     "output_type": "display_data"
    }
   ],
   "source": [
    "plt.plot(timeSeries.time.to_numpy(), timeSeries.cellAlive.to_numpy(), label=\"0gy_n1_201104\") #label should be automated\n",
    "plt.title(\"First Time Series\")\n",
    "plt.xlabel(\"Time [frames]\")\n",
    "plt.ylabel(\"Cell Alive\")\n",
    "plt.legend()\n",
    "plt.show()"
   ]
  },
  {
   "cell_type": "markdown",
   "id": "c3036463-89be-4229-8a2a-0f5429ef4004",
   "metadata": {},
   "source": [
    "There is a problem with the end : it should not appear.\n"
   ]
  }
 ],
 "metadata": {
  "kernelspec": {
   "display_name": "Python 3 (ipykernel)",
   "language": "python",
   "name": "python3"
  },
  "language_info": {
   "codemirror_mode": {
    "name": "ipython",
    "version": 3
   },
   "file_extension": ".py",
   "mimetype": "text/x-python",
   "name": "python",
   "nbconvert_exporter": "python",
   "pygments_lexer": "ipython3",
   "version": "3.8.10"
  }
 },
 "nbformat": 4,
 "nbformat_minor": 5
}
