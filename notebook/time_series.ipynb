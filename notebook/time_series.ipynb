{
 "cells": [
  {
   "cell_type": "code",
   "execution_count": 1,
   "source": [
    "import numpy as np  # Linear algebra.\n",
    "import pandas as pd # Data processing, CSV file I/O (e.g. pd.read_csv).\n",
    "import os           # File management.\n",
    "\n",
    "# Input data files are available in the \"../input/\" directory.\n",
    "\n",
    "print(\"Setup complete.\")"
   ],
   "outputs": [
    {
     "output_type": "stream",
     "name": "stdout",
     "text": [
      "Setup complete.\n"
     ]
    }
   ],
   "metadata": {}
  },
  {
   "cell_type": "markdown",
   "source": [
    "# Time Series Notebook.\n",
    "\n",
    "This notebook aims to compute and display time series of the number of cells alive during the experiments.\n",
    "\n",
    "## Importing dataset file names in a DataFrame to compute time series."
   ],
   "metadata": {}
  },
  {
   "cell_type": "code",
   "execution_count": 2,
   "source": [
    "# This cell is not usefull on kaggle.com\n",
    "\n",
    "print(os.getcwd())  \n",
    "# If you're not using this notebook on kaggle.com :\n",
    "#   Result should end with \"/ecn_radiobiology/notebook\".\n",
    "#   If it is not the case, you're running the notebook on the wrong folder."
   ],
   "outputs": [
    {
     "output_type": "stream",
     "name": "stdout",
     "text": [
      "/home/momo/Documents/Centrale/EI3/PAPPL/ecn_radiobiology/notebook\n"
     ]
    }
   ],
   "metadata": {}
  },
  {
   "cell_type": "code",
   "execution_count": 3,
   "source": [
    "# Path of the dataset :\n",
    "\n",
    "path = '../input/glioblastoma-radiosensitivity-dataset/glioblastoma_data/extracted_data/cell_behaviors/videos_transcriptions_csv'\n",
    "print(path)"
   ],
   "outputs": [
    {
     "output_type": "stream",
     "name": "stdout",
     "text": [
      "../input/glioblastoma-radiosensitivity-dataset/glioblastoma_data/extracted_data/cell_behaviors/videos_transcriptions_csv\n"
     ]
    }
   ],
   "metadata": {}
  },
  {
   "cell_type": "code",
   "execution_count": 4,
   "source": [
    "def import_files(path):\n",
    "    struc = pd.DataFrame(columns =['Radiation level', 'Path','codeFile'])\n",
    "    read = os.walk(path)\n",
    "    for root, dirs, files in read:\n",
    "        for name in files:\n",
    "            if name.endswith(\".csv\"):\n",
    "                #print(name)\n",
    "                radiation = name.split('gy')\n",
    "                filepath = path+ '/' + name\n",
    "                codeFile = name[:-4] #removing suffix\n",
    "                \n",
    "                struc = struc.append({'Radiation level' : radiation[0], 'Path' : filepath, 'codeFile' : codeFile}, ignore_index=True)\n",
    "                \n",
    "    return struc"
   ],
   "outputs": [],
   "metadata": {}
  },
  {
   "cell_type": "code",
   "execution_count": 5,
   "source": [
    "# Importing the path of each files of the dataset in a DataFrame.\n",
    "\n",
    "dataset = import_files(path)\n",
    "\n",
    "dataset.head()"
   ],
   "outputs": [
    {
     "output_type": "execute_result",
     "data": {
      "text/html": [
       "<div>\n",
       "<style scoped>\n",
       "    .dataframe tbody tr th:only-of-type {\n",
       "        vertical-align: middle;\n",
       "    }\n",
       "\n",
       "    .dataframe tbody tr th {\n",
       "        vertical-align: top;\n",
       "    }\n",
       "\n",
       "    .dataframe thead th {\n",
       "        text-align: right;\n",
       "    }\n",
       "</style>\n",
       "<table border=\"1\" class=\"dataframe\">\n",
       "  <thead>\n",
       "    <tr style=\"text-align: right;\">\n",
       "      <th></th>\n",
       "      <th>Radiation level</th>\n",
       "      <th>Path</th>\n",
       "      <th>codeFile</th>\n",
       "    </tr>\n",
       "  </thead>\n",
       "  <tbody>\n",
       "    <tr>\n",
       "      <th>0</th>\n",
       "      <td>10</td>\n",
       "      <td>../input/glioblastoma-radiosensitivity-dataset...</td>\n",
       "      <td>10gy_n3_07-06-2021-10Gy-u251-5B</td>\n",
       "    </tr>\n",
       "    <tr>\n",
       "      <th>1</th>\n",
       "      <td>10</td>\n",
       "      <td>../input/glioblastoma-radiosensitivity-dataset...</td>\n",
       "      <td>10gy_n2_2021n210Gy6C</td>\n",
       "    </tr>\n",
       "    <tr>\n",
       "      <th>2</th>\n",
       "      <td>2</td>\n",
       "      <td>../input/glioblastoma-radiosensitivity-dataset...</td>\n",
       "      <td>2gy_n3_2021-04-2Gy-2C</td>\n",
       "    </tr>\n",
       "    <tr>\n",
       "      <th>3</th>\n",
       "      <td>4</td>\n",
       "      <td>../input/glioblastoma-radiosensitivity-dataset...</td>\n",
       "      <td>4gy_n1_160930.nd2u2514gyp1</td>\n",
       "    </tr>\n",
       "    <tr>\n",
       "      <th>4</th>\n",
       "      <td>15</td>\n",
       "      <td>../input/glioblastoma-radiosensitivity-dataset...</td>\n",
       "      <td>15gy_n2_2021N215GY5B</td>\n",
       "    </tr>\n",
       "  </tbody>\n",
       "</table>\n",
       "</div>"
      ],
      "text/plain": [
       "  Radiation level                                               Path  \\\n",
       "0              10  ../input/glioblastoma-radiosensitivity-dataset...   \n",
       "1              10  ../input/glioblastoma-radiosensitivity-dataset...   \n",
       "2               2  ../input/glioblastoma-radiosensitivity-dataset...   \n",
       "3               4  ../input/glioblastoma-radiosensitivity-dataset...   \n",
       "4              15  ../input/glioblastoma-radiosensitivity-dataset...   \n",
       "\n",
       "                          codeFile  \n",
       "0  10gy_n3_07-06-2021-10Gy-u251-5B  \n",
       "1             10gy_n2_2021n210Gy6C  \n",
       "2            2gy_n3_2021-04-2Gy-2C  \n",
       "3       4gy_n1_160930.nd2u2514gyp1  \n",
       "4             15gy_n2_2021N215GY5B  "
      ]
     },
     "metadata": {},
     "execution_count": 5
    }
   ],
   "metadata": {}
  }
 ],
 "metadata": {
  "orig_nbformat": 4,
  "language_info": {
   "name": "python",
   "version": "3.8.10",
   "mimetype": "text/x-python",
   "codemirror_mode": {
    "name": "ipython",
    "version": 3
   },
   "pygments_lexer": "ipython3",
   "nbconvert_exporter": "python",
   "file_extension": ".py"
  },
  "kernelspec": {
   "name": "python3",
   "display_name": "Python 3.8.10 64-bit"
  },
  "interpreter": {
   "hash": "31f2aee4e71d21fbe5cf8b01ff0e069b9275f58929596ceb00d14d90e3e16cd6"
  }
 },
 "nbformat": 4,
 "nbformat_minor": 2
}