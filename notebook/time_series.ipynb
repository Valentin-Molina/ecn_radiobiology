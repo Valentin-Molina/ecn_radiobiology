{
 "cells": [
  {
   "cell_type": "code",
   "execution_count": 1,
   "metadata": {},
   "outputs": [
    {
     "name": "stdout",
     "output_type": "stream",
     "text": [
      "Setup complete.\n"
     ]
    }
   ],
   "source": [
    "import numpy as np              # Linear algebra.\n",
    "import pandas as pd             # Data processing, CSV file I/O (e.g. pd.read_csv).\n",
    "import os                       # File management.\n",
    "import matplotlib.pyplot as plt # Drawing graphs\n",
    "\n",
    "# Input data files are available in the \"../input/\" directory.\n",
    "\n",
    "print(\"Setup complete.\")"
   ]
  },
  {
   "cell_type": "markdown",
   "metadata": {},
   "source": [
    "# Time Series Notebook.\n",
    "\n",
    "This notebook aims to compute and display time series of the number of cells alive during the experiments.\n",
    "\n",
    "## Importing dataset file names in a DataFrame to compute time series :"
   ]
  },
  {
   "cell_type": "code",
   "execution_count": 2,
   "metadata": {},
   "outputs": [
    {
     "name": "stdout",
     "output_type": "stream",
     "text": [
      "/home/momo/Documents/Centrale/EI3/PAPPL/ecn_radiobiology/notebook\n"
     ]
    }
   ],
   "source": [
    "# This cell is not usefull on kaggle.com\n",
    "\n",
    "print(os.getcwd())  \n",
    "# If you're not using this notebook on kaggle.com :\n",
    "# * Result should end with \"/ecn_radiobiology/notebook\".\n",
    "# * If it is not the case, you're running the notebook on the wrong folder."
   ]
  },
  {
   "cell_type": "code",
   "execution_count": 3,
   "metadata": {},
   "outputs": [
    {
     "name": "stdout",
     "output_type": "stream",
     "text": [
      "../input/glioblastoma-radiosensitivity-dataset/glioblastoma_data/extracted_data/cell_behaviors/videos_transcriptions_csv\n"
     ]
    }
   ],
   "source": [
    "# Path of the dataset :\n",
    "\n",
    "path = '../input/glioblastoma-radiosensitivity-dataset/glioblastoma_data/extracted_data/cell_behaviors/videos_transcriptions_csv'\n",
    "print(path)"
   ]
  },
  {
   "cell_type": "code",
   "execution_count": 15,
   "metadata": {},
   "outputs": [],
   "source": [
    "def import_files(path):\n",
    "    struc = pd.DataFrame(columns =[\"radiation_level\", \"path\",\"code_file\"])\n",
    "    read = os.walk(path)\n",
    "    for root, dirs, files in read:\n",
    "        for name in files:\n",
    "            if name.endswith(\".csv\"):\n",
    "                #print(name)\n",
    "                radiation = name.split(\"gy\")\n",
    "                filepath = path+ '/' + name\n",
    "                code_file = name[:-4] #removing suffix\n",
    "                \n",
    "                struc = struc.append({\"radiation_level\" : radiation[0], \"path\" : filepath, \"code_file\" : code_file}, ignore_index=True)\n",
    "                \n",
    "    return struc"
   ]
  },
  {
   "cell_type": "code",
   "execution_count": 16,
   "metadata": {},
   "outputs": [
    {
     "data": {
      "text/html": [
       "<div>\n",
       "<style scoped>\n",
       "    .dataframe tbody tr th:only-of-type {\n",
       "        vertical-align: middle;\n",
       "    }\n",
       "\n",
       "    .dataframe tbody tr th {\n",
       "        vertical-align: top;\n",
       "    }\n",
       "\n",
       "    .dataframe thead th {\n",
       "        text-align: right;\n",
       "    }\n",
       "</style>\n",
       "<table border=\"1\" class=\"dataframe\">\n",
       "  <thead>\n",
       "    <tr style=\"text-align: right;\">\n",
       "      <th></th>\n",
       "      <th>radiation_level</th>\n",
       "      <th>path</th>\n",
       "      <th>code_file</th>\n",
       "    </tr>\n",
       "  </thead>\n",
       "  <tbody>\n",
       "    <tr>\n",
       "      <th>0</th>\n",
       "      <td>10</td>\n",
       "      <td>../input/glioblastoma-radiosensitivity-dataset...</td>\n",
       "      <td>10gy_n3_07-06-2021-10Gy-u251-5B</td>\n",
       "    </tr>\n",
       "    <tr>\n",
       "      <th>1</th>\n",
       "      <td>10</td>\n",
       "      <td>../input/glioblastoma-radiosensitivity-dataset...</td>\n",
       "      <td>10gy_n2_2021n210Gy6C</td>\n",
       "    </tr>\n",
       "    <tr>\n",
       "      <th>2</th>\n",
       "      <td>2</td>\n",
       "      <td>../input/glioblastoma-radiosensitivity-dataset...</td>\n",
       "      <td>2gy_n3_2021-04-2Gy-2C</td>\n",
       "    </tr>\n",
       "    <tr>\n",
       "      <th>3</th>\n",
       "      <td>4</td>\n",
       "      <td>../input/glioblastoma-radiosensitivity-dataset...</td>\n",
       "      <td>4gy_n1_160930.nd2u2514gyp1</td>\n",
       "    </tr>\n",
       "    <tr>\n",
       "      <th>4</th>\n",
       "      <td>15</td>\n",
       "      <td>../input/glioblastoma-radiosensitivity-dataset...</td>\n",
       "      <td>15gy_n2_2021N215GY5B</td>\n",
       "    </tr>\n",
       "  </tbody>\n",
       "</table>\n",
       "</div>"
      ],
      "text/plain": [
       "  radiation_level                                               path  \\\n",
       "0              10  ../input/glioblastoma-radiosensitivity-dataset...   \n",
       "1              10  ../input/glioblastoma-radiosensitivity-dataset...   \n",
       "2               2  ../input/glioblastoma-radiosensitivity-dataset...   \n",
       "3               4  ../input/glioblastoma-radiosensitivity-dataset...   \n",
       "4              15  ../input/glioblastoma-radiosensitivity-dataset...   \n",
       "\n",
       "                         code_file  \n",
       "0  10gy_n3_07-06-2021-10Gy-u251-5B  \n",
       "1             10gy_n2_2021n210Gy6C  \n",
       "2            2gy_n3_2021-04-2Gy-2C  \n",
       "3       4gy_n1_160930.nd2u2514gyp1  \n",
       "4             15gy_n2_2021N215GY5B  "
      ]
     },
     "execution_count": 16,
     "metadata": {},
     "output_type": "execute_result"
    }
   ],
   "source": [
    "# Importing the path of each file of the dataset in a DataFrame.\n",
    "\n",
    "dataset = import_files(path)\n",
    "\n",
    "dataset.head()"
   ]
  },
  {
   "cell_type": "markdown",
   "metadata": {},
   "source": [
    "## Computing the time series of each experiment :"
   ]
  },
  {
   "cell_type": "code",
   "execution_count": 17,
   "metadata": {},
   "outputs": [],
   "source": [
    "# Functions used to compute the time series :\n",
    "\n",
    "def str_to_numpy(input_str):\n",
    "    \"\"\"\n",
    "    str_to_numpy is used to parse the columns \"input\" and \"output\" of the dataset csv files.\n",
    "    It converts a string representing an array of cells to a numpy array containing strings\n",
    "    which are the names of these cells.\n",
    "    \"\"\"\n",
    "    process_str = input_str.replace(\"[\", \"\")\n",
    "    process_str = process_str.replace(\"'\", \"\")\n",
    "    process_str = process_str.replace(\" \", \"\")\n",
    "    process_str = process_str.replace(\"]\", \"\")\n",
    "    if(process_str != \"\"):\n",
    "        process_str = process_str.split(\",\")\n",
    "        output_array = np.asarray(process_str, dtype=str)\n",
    "    else:\n",
    "        output_array = np.asarray([], dtype=str)\n",
    "    return output_array\n",
    "\n",
    "def biomass(row):\n",
    "    \"\"\"\n",
    "    biomass is used on an experiment DataFrame with the .apply() method to compute\n",
    "    the time series.\n",
    "    Before using on a DataFrame, static variable biomass.last should be set to 0.\n",
    "    \"\"\"\n",
    "    nb_in = row.input.size\n",
    "    nb_out = row.output.size\n",
    "    biomass.last = biomass.last + (nb_out - nb_in)\n",
    "    row[\"cellAlive\"] = biomass.last\n",
    "    return row\n",
    "biomass.last = 0\n",
    "\n",
    "def compute_time_serie(data):\n",
    "    \"\"\"\n",
    "    Compute the time serie of the DataFrame data using the biomass function.\n",
    "    \"\"\"\n",
    "    biomass.last = 0\n",
    "    return data[data[\"event\"] != \"end\"].sort_values(by=\"time\").apply(biomass, axis=1).groupby(\"time\").agg({\"cellAlive\" : \"max\"}).reset_index()\n",
    "\n",
    "def compute_time_series(row):\n",
    "    \"\"\"\n",
    "    Compute the time series of each experiment in the DataFrame which represents the dataset.\n",
    "    This function should be applied on the dataset which represents the dataset with the .apply() method.\n",
    "    It then returns a DataFrame that include the time series.\n",
    "    \"\"\"\n",
    "    file = row.path\n",
    "    data = pd.read_csv(file, converters = {\"input\" : str_to_numpy, \"output\" : str_to_numpy})\n",
    "    time_series = compute_time_serie(data)\n",
    "    row[\"time\"] = time_series.time.to_numpy()\n",
    "    row[\"time_series\"] = time_series.cellAlive.to_numpy()\n",
    "    return row\n"
   ]
  },
  {
   "cell_type": "code",
   "execution_count": 21,
   "metadata": {},
   "outputs": [
    {
     "data": {
      "text/html": [
       "<div>\n",
       "<style scoped>\n",
       "    .dataframe tbody tr th:only-of-type {\n",
       "        vertical-align: middle;\n",
       "    }\n",
       "\n",
       "    .dataframe tbody tr th {\n",
       "        vertical-align: top;\n",
       "    }\n",
       "\n",
       "    .dataframe thead th {\n",
       "        text-align: right;\n",
       "    }\n",
       "</style>\n",
       "<table border=\"1\" class=\"dataframe\">\n",
       "  <thead>\n",
       "    <tr style=\"text-align: right;\">\n",
       "      <th></th>\n",
       "      <th>radiation_level</th>\n",
       "      <th>path</th>\n",
       "      <th>code_file</th>\n",
       "      <th>time</th>\n",
       "      <th>time_series</th>\n",
       "    </tr>\n",
       "  </thead>\n",
       "  <tbody>\n",
       "    <tr>\n",
       "      <th>0</th>\n",
       "      <td>10</td>\n",
       "      <td>../input/glioblastoma-radiosensitivity-dataset...</td>\n",
       "      <td>10gy_n3_07-06-2021-10Gy-u251-5B</td>\n",
       "      <td>[0, 100, 137, 141, 159, 167, 173, 177, 178, 19...</td>\n",
       "      <td>[24, 23, 25, 27, 28, 29, 30, 29, 30, 29, 30, 3...</td>\n",
       "    </tr>\n",
       "    <tr>\n",
       "      <th>1</th>\n",
       "      <td>10</td>\n",
       "      <td>../input/glioblastoma-radiosensitivity-dataset...</td>\n",
       "      <td>10gy_n2_2021n210Gy6C</td>\n",
       "      <td>[0, 190, 207, 310, 327, 342, 446, 493, 515, 51...</td>\n",
       "      <td>[7, 8, 7, 6, 8, 7, 6, 5, 4, 2, 1]</td>\n",
       "    </tr>\n",
       "    <tr>\n",
       "      <th>2</th>\n",
       "      <td>2</td>\n",
       "      <td>../input/glioblastoma-radiosensitivity-dataset...</td>\n",
       "      <td>2gy_n3_2021-04-2Gy-2C</td>\n",
       "      <td>[0, 17, 58, 72, 94, 99, 110, 115, 117, 118, 14...</td>\n",
       "      <td>[11, 10, 11, 12, 13, 14, 15, 16, 17, 16, 17, 1...</td>\n",
       "    </tr>\n",
       "    <tr>\n",
       "      <th>3</th>\n",
       "      <td>4</td>\n",
       "      <td>../input/glioblastoma-radiosensitivity-dataset...</td>\n",
       "      <td>4gy_n1_160930.nd2u2514gyp1</td>\n",
       "      <td>[0, 10, 130, 151, 170, 302, 310, 324, 345, 400...</td>\n",
       "      <td>[6, 5, 6, 7, 8, 9, 10, 11, 10, 11, 10, 10, 9, ...</td>\n",
       "    </tr>\n",
       "    <tr>\n",
       "      <th>4</th>\n",
       "      <td>15</td>\n",
       "      <td>../input/glioblastoma-radiosensitivity-dataset...</td>\n",
       "      <td>15gy_n2_2021N215GY5B</td>\n",
       "      <td>[0, 233, 321, 343, 361, 396, 417, 496, 504, 570]</td>\n",
       "      <td>[4, 3, 4, 3, 5, 4, 3, 2, 1, 0]</td>\n",
       "    </tr>\n",
       "  </tbody>\n",
       "</table>\n",
       "</div>"
      ],
      "text/plain": [
       "  radiation_level                                               path  \\\n",
       "0              10  ../input/glioblastoma-radiosensitivity-dataset...   \n",
       "1              10  ../input/glioblastoma-radiosensitivity-dataset...   \n",
       "2               2  ../input/glioblastoma-radiosensitivity-dataset...   \n",
       "3               4  ../input/glioblastoma-radiosensitivity-dataset...   \n",
       "4              15  ../input/glioblastoma-radiosensitivity-dataset...   \n",
       "\n",
       "                         code_file  \\\n",
       "0  10gy_n3_07-06-2021-10Gy-u251-5B   \n",
       "1             10gy_n2_2021n210Gy6C   \n",
       "2            2gy_n3_2021-04-2Gy-2C   \n",
       "3       4gy_n1_160930.nd2u2514gyp1   \n",
       "4             15gy_n2_2021N215GY5B   \n",
       "\n",
       "                                                time  \\\n",
       "0  [0, 100, 137, 141, 159, 167, 173, 177, 178, 19...   \n",
       "1  [0, 190, 207, 310, 327, 342, 446, 493, 515, 51...   \n",
       "2  [0, 17, 58, 72, 94, 99, 110, 115, 117, 118, 14...   \n",
       "3  [0, 10, 130, 151, 170, 302, 310, 324, 345, 400...   \n",
       "4   [0, 233, 321, 343, 361, 396, 417, 496, 504, 570]   \n",
       "\n",
       "                                         time_series  \n",
       "0  [24, 23, 25, 27, 28, 29, 30, 29, 30, 29, 30, 3...  \n",
       "1                  [7, 8, 7, 6, 8, 7, 6, 5, 4, 2, 1]  \n",
       "2  [11, 10, 11, 12, 13, 14, 15, 16, 17, 16, 17, 1...  \n",
       "3  [6, 5, 6, 7, 8, 9, 10, 11, 10, 11, 10, 10, 9, ...  \n",
       "4                     [4, 3, 4, 3, 5, 4, 3, 2, 1, 0]  "
      ]
     },
     "execution_count": 21,
     "metadata": {},
     "output_type": "execute_result"
    }
   ],
   "source": [
    "# Use the previous function to compute all the time series :\n",
    "\n",
    "time_series = dataset.apply(compute_time_series, axis=1)\n",
    "time_series.head()"
   ]
  }
 ],
 "metadata": {
  "interpreter": {
   "hash": "31f2aee4e71d21fbe5cf8b01ff0e069b9275f58929596ceb00d14d90e3e16cd6"
  },
  "kernelspec": {
   "display_name": "Python 3 (ipykernel)",
   "language": "python",
   "name": "python3"
  },
  "language_info": {
   "codemirror_mode": {
    "name": "ipython",
    "version": 3
   },
   "file_extension": ".py",
   "mimetype": "text/x-python",
   "name": "python",
   "nbconvert_exporter": "python",
   "pygments_lexer": "ipython3",
   "version": "3.8.10"
  }
 },
 "nbformat": 4,
 "nbformat_minor": 4
}
