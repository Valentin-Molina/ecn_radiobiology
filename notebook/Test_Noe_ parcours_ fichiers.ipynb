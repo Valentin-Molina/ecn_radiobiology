{
 "cells": [
  {
   "cell_type": "code",
   "execution_count": 1,
   "id": "55e58424-d7d9-4bd5-ad75-505fcb4f907c",
   "metadata": {},
   "outputs": [],
   "source": [
    "import numpy as np # linear algebra\n",
    "import pandas as pd # data processing, CSV file I/O (e.g. pd.read_csv)\n",
    "\n",
    "# Input data files are available in the read-only \"../input/\" directory\n",
    "# For example, running this (by clicking run or pressing Shift+Enter) will list all files under the input directory\n",
    "\n",
    "import os"
   ]
  },
  {
   "cell_type": "markdown",
   "id": "ee98dd4d-8745-4596-acb6-5adea04fb52c",
   "metadata": {},
   "source": [
    "Importation des fichers présents dans un tableur pour le traitement"
   ]
  },
  {
   "cell_type": "code",
   "execution_count": 29,
   "id": "e0a8351d-43b3-43a5-b0f9-cc9aa5d1a827",
   "metadata": {},
   "outputs": [],
   "source": [
    "os.getcwd()\n",
    "os.sep = '/'"
   ]
  },
  {
   "cell_type": "code",
   "execution_count": 125,
   "id": "4a0fce0c-f8de-4522-b9e8-4d5be9952a0a",
   "metadata": {},
   "outputs": [
    {
     "name": "stdout",
     "output_type": "stream",
     "text": [
      "./input/glioblastoma-radiosensitivity-dataset/glioblastoma_data/extracted_data/cell_behaviors/videos_transcriptions_csv\n"
     ]
    }
   ],
   "source": [
    "path = './input/glioblastoma-radiosensitivity-dataset/glioblastoma_data/extracted_data/cell_behaviors/videos_transcriptions_csv'\n",
    "print(path)"
   ]
  },
  {
   "cell_type": "code",
   "execution_count": 122,
   "id": "a250ae56-6722-4163-a81a-cb9a6bde4a3f",
   "metadata": {},
   "outputs": [],
   "source": [
    "def import_files(path):\n",
    "    struc = pd.DataFrame(columns =['Radiation level', 'Path','codeFile'])\n",
    "    read = os.walk(path)\n",
    "    for root, dirs, files in read:\n",
    "        for name in files:\n",
    "            if name.endswith(\".csv\"):\n",
    "                #print(name)\n",
    "                radiation = name.split('gy')\n",
    "                filepath = path+ '/' + name\n",
    "                codeFile =name.removesuffix(\".csv\")\n",
    "                \n",
    "                struc = struc.append({'Radiation level' : radiation[0], 'Path' : filepath, 'codeFile' : codeFile}, ignore_index=True)\n",
    "                \n",
    "    return struc"
   ]
  },
  {
   "cell_type": "code",
   "execution_count": 126,
   "id": "b2b02888-1e73-4235-96f5-961a6cc45bef",
   "metadata": {
    "tags": []
   },
   "outputs": [
    {
     "data": {
      "text/html": [
       "<div>\n",
       "<style scoped>\n",
       "    .dataframe tbody tr th:only-of-type {\n",
       "        vertical-align: middle;\n",
       "    }\n",
       "\n",
       "    .dataframe tbody tr th {\n",
       "        vertical-align: top;\n",
       "    }\n",
       "\n",
       "    .dataframe thead th {\n",
       "        text-align: right;\n",
       "    }\n",
       "</style>\n",
       "<table border=\"1\" class=\"dataframe\">\n",
       "  <thead>\n",
       "    <tr style=\"text-align: right;\">\n",
       "      <th></th>\n",
       "      <th>Radiation level</th>\n",
       "      <th>Path</th>\n",
       "      <th>codeFile</th>\n",
       "    </tr>\n",
       "  </thead>\n",
       "  <tbody>\n",
       "    <tr>\n",
       "      <th>0</th>\n",
       "      <td>0</td>\n",
       "      <td>./input/glioblastoma-radiosensitivity-dataset/...</td>\n",
       "      <td>0gy_n1_201104.nd2u2510Gy1A</td>\n",
       "    </tr>\n",
       "    <tr>\n",
       "      <th>1</th>\n",
       "      <td>0</td>\n",
       "      <td>./input/glioblastoma-radiosensitivity-dataset/...</td>\n",
       "      <td>0gy_n1_201104.nd2u2510GyA3A</td>\n",
       "    </tr>\n",
       "    <tr>\n",
       "      <th>2</th>\n",
       "      <td>0</td>\n",
       "      <td>./input/glioblastoma-radiosensitivity-dataset/...</td>\n",
       "      <td>0gy_n1_2020 11 04 .0Gy B2A</td>\n",
       "    </tr>\n",
       "    <tr>\n",
       "      <th>3</th>\n",
       "      <td>0</td>\n",
       "      <td>./input/glioblastoma-radiosensitivity-dataset/...</td>\n",
       "      <td>0gy_n1_2020 11 04 0Gy 1A</td>\n",
       "    </tr>\n",
       "    <tr>\n",
       "      <th>4</th>\n",
       "      <td>0</td>\n",
       "      <td>./input/glioblastoma-radiosensitivity-dataset/...</td>\n",
       "      <td>0gy_n1_2020 11 04 0Gy A2B</td>\n",
       "    </tr>\n",
       "  </tbody>\n",
       "</table>\n",
       "</div>"
      ],
      "text/plain": [
       "  Radiation level                                               Path  \\\n",
       "0               0  ./input/glioblastoma-radiosensitivity-dataset/...   \n",
       "1               0  ./input/glioblastoma-radiosensitivity-dataset/...   \n",
       "2               0  ./input/glioblastoma-radiosensitivity-dataset/...   \n",
       "3               0  ./input/glioblastoma-radiosensitivity-dataset/...   \n",
       "4               0  ./input/glioblastoma-radiosensitivity-dataset/...   \n",
       "\n",
       "                      codeFile  \n",
       "0   0gy_n1_201104.nd2u2510Gy1A  \n",
       "1  0gy_n1_201104.nd2u2510GyA3A  \n",
       "2   0gy_n1_2020 11 04 .0Gy B2A  \n",
       "3     0gy_n1_2020 11 04 0Gy 1A  \n",
       "4    0gy_n1_2020 11 04 0Gy A2B  "
      ]
     },
     "execution_count": 126,
     "metadata": {},
     "output_type": "execute_result"
    }
   ],
   "source": [
    "struct = import_files(path)\n",
    "\n",
    "struct.head()"
   ]
  },
  {
   "cell_type": "code",
   "execution_count": null,
   "id": "c4f45483-00b9-4ca2-982e-f821cb402c7f",
   "metadata": {},
   "outputs": [],
   "source": []
  }
 ],
 "metadata": {
  "kernelspec": {
   "display_name": "Python 3 (ipykernel)",
   "language": "python",
   "name": "python3"
  },
  "language_info": {
   "codemirror_mode": {
    "name": "ipython",
    "version": 3
   },
   "file_extension": ".py",
   "mimetype": "text/x-python",
   "name": "python",
   "nbconvert_exporter": "python",
   "pygments_lexer": "ipython3",
   "version": "3.9.7"
  }
 },
 "nbformat": 4,
 "nbformat_minor": 5
}
