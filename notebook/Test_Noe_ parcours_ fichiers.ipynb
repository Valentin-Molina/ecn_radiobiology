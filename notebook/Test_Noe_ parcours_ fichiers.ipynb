{
 "cells": [
  {
   "cell_type": "code",
   "execution_count": 6,
   "id": "a5f95916",
   "metadata": {},
   "outputs": [],
   "source": [
    "import numpy as np # linear algebra\n",
    "import pandas as pd # data processing, CSV file I/O (e.g. pd.read_csv)\n",
    "\n",
    "# Input data files are available in the read-only \"../input/\" directory\n",
    "# For example, running this (by clicking run or pressing Shift+Enter) will list all files under the input directory\n",
    "\n",
    "import os"
   ]
  },
  {
   "cell_type": "markdown",
   "id": "be3ee27e",
   "metadata": {},
   "source": [
    "## Importing dataset file names in a DataFrame to compute time series."
   ]
  },
  {
   "cell_type": "code",
   "execution_count": 7,
   "id": "60b1447e",
   "metadata": {},
   "outputs": [
    {
     "data": {
      "text/plain": [
       "'C:\\\\CENTRALE\\\\PAPPL\\\\Radiobologie\\\\notebook'"
      ]
     },
     "execution_count": 7,
     "metadata": {},
     "output_type": "execute_result"
    }
   ],
   "source": [
    "os.getcwd()"
   ]
  },
  {
   "cell_type": "code",
   "execution_count": 8,
   "id": "76e37581",
   "metadata": {},
   "outputs": [
    {
     "name": "stdout",
     "output_type": "stream",
     "text": [
      "../input/glioblastoma-radiosensitivity-dataset/glioblastoma_data/extracted_data/cell_behaviors/videos_transcriptions_csv\n"
     ]
    }
   ],
   "source": [
    "path = '../input/glioblastoma-radiosensitivity-dataset/glioblastoma_data/extracted_data/cell_behaviors/videos_transcriptions_csv'\n",
    "print(path)"
   ]
  },
  {
   "cell_type": "code",
   "execution_count": 9,
   "id": "eccf7487",
   "metadata": {},
   "outputs": [],
   "source": [
    "def import_files(path):\n",
    "    struc = pd.DataFrame(columns =[\"radiation_level\", \"path\",\"code_file\",\"group\"])\n",
    "    read = os.walk(path)\n",
    "    for root, dirs, files in read:\n",
    "        for name in files:\n",
    "            if name.endswith(\".csv\"):\n",
    "                #print(name)\n",
    "                radiation = name.split(\"gy\")\n",
    "                [temp,group,temp2] = name.split(\"_\") \n",
    "                filepath = path+ '/' + name\n",
    "                code_file = name[:-4] #removing suffix\n",
    "                \n",
    "                struc = struc.append({\"radiation_level\" : int(radiation[0]), \"path\" : filepath, \"code_file\" : code_file, \"group\" : group}, ignore_index=True)\n",
    "                \n",
    "    return struc"
   ]
  },
  {
   "cell_type": "code",
   "execution_count": 11,
   "id": "56079866",
   "metadata": {
    "tags": []
   },
   "outputs": [
    {
     "data": {
      "text/html": [
       "<div>\n",
       "<style scoped>\n",
       "    .dataframe tbody tr th:only-of-type {\n",
       "        vertical-align: middle;\n",
       "    }\n",
       "\n",
       "    .dataframe tbody tr th {\n",
       "        vertical-align: top;\n",
       "    }\n",
       "\n",
       "    .dataframe thead th {\n",
       "        text-align: right;\n",
       "    }\n",
       "</style>\n",
       "<table border=\"1\" class=\"dataframe\">\n",
       "  <thead>\n",
       "    <tr style=\"text-align: right;\">\n",
       "      <th></th>\n",
       "      <th>radiation_level</th>\n",
       "      <th>path</th>\n",
       "      <th>code_file</th>\n",
       "      <th>group</th>\n",
       "    </tr>\n",
       "  </thead>\n",
       "  <tbody>\n",
       "    <tr>\n",
       "      <th>0</th>\n",
       "      <td>0</td>\n",
       "      <td>../input/glioblastoma-radiosensitivity-dataset...</td>\n",
       "      <td>0gy_n1_201104.nd2u2510Gy1A</td>\n",
       "      <td>n1</td>\n",
       "    </tr>\n",
       "    <tr>\n",
       "      <th>1</th>\n",
       "      <td>0</td>\n",
       "      <td>../input/glioblastoma-radiosensitivity-dataset...</td>\n",
       "      <td>0gy_n1_201104.nd2u2510GyA3A</td>\n",
       "      <td>n1</td>\n",
       "    </tr>\n",
       "    <tr>\n",
       "      <th>2</th>\n",
       "      <td>0</td>\n",
       "      <td>../input/glioblastoma-radiosensitivity-dataset...</td>\n",
       "      <td>0gy_n1_2020 11 04 .0Gy B2A</td>\n",
       "      <td>n1</td>\n",
       "    </tr>\n",
       "    <tr>\n",
       "      <th>3</th>\n",
       "      <td>0</td>\n",
       "      <td>../input/glioblastoma-radiosensitivity-dataset...</td>\n",
       "      <td>0gy_n1_2020 11 04 0Gy 1A</td>\n",
       "      <td>n1</td>\n",
       "    </tr>\n",
       "    <tr>\n",
       "      <th>4</th>\n",
       "      <td>0</td>\n",
       "      <td>../input/glioblastoma-radiosensitivity-dataset...</td>\n",
       "      <td>0gy_n1_2020 11 04 0Gy A2B</td>\n",
       "      <td>n1</td>\n",
       "    </tr>\n",
       "    <tr>\n",
       "      <th>...</th>\n",
       "      <td>...</td>\n",
       "      <td>...</td>\n",
       "      <td>...</td>\n",
       "      <td>...</td>\n",
       "    </tr>\n",
       "    <tr>\n",
       "      <th>176</th>\n",
       "      <td>8</td>\n",
       "      <td>../input/glioblastoma-radiosensitivity-dataset...</td>\n",
       "      <td>8gy_n3_2021 11 11 8Gy B4C</td>\n",
       "      <td>n3</td>\n",
       "    </tr>\n",
       "    <tr>\n",
       "      <th>177</th>\n",
       "      <td>8</td>\n",
       "      <td>../input/glioblastoma-radiosensitivity-dataset...</td>\n",
       "      <td>8gy_n3_2021 11 11 8Gy C3A</td>\n",
       "      <td>n3</td>\n",
       "    </tr>\n",
       "    <tr>\n",
       "      <th>178</th>\n",
       "      <td>8</td>\n",
       "      <td>../input/glioblastoma-radiosensitivity-dataset...</td>\n",
       "      <td>8gy_n3_2021 11 11 8Gy C3C</td>\n",
       "      <td>n3</td>\n",
       "    </tr>\n",
       "    <tr>\n",
       "      <th>179</th>\n",
       "      <td>8</td>\n",
       "      <td>../input/glioblastoma-radiosensitivity-dataset...</td>\n",
       "      <td>8gy_n3_2021 11 11 8Gy C4A</td>\n",
       "      <td>n3</td>\n",
       "    </tr>\n",
       "    <tr>\n",
       "      <th>180</th>\n",
       "      <td>8</td>\n",
       "      <td>../input/glioblastoma-radiosensitivity-dataset...</td>\n",
       "      <td>8gy_n3_2021 11 11 8Gy C4C</td>\n",
       "      <td>n3</td>\n",
       "    </tr>\n",
       "  </tbody>\n",
       "</table>\n",
       "<p>181 rows × 4 columns</p>\n",
       "</div>"
      ],
      "text/plain": [
       "    radiation_level                                               path  \\\n",
       "0                 0  ../input/glioblastoma-radiosensitivity-dataset...   \n",
       "1                 0  ../input/glioblastoma-radiosensitivity-dataset...   \n",
       "2                 0  ../input/glioblastoma-radiosensitivity-dataset...   \n",
       "3                 0  ../input/glioblastoma-radiosensitivity-dataset...   \n",
       "4                 0  ../input/glioblastoma-radiosensitivity-dataset...   \n",
       "..              ...                                                ...   \n",
       "176               8  ../input/glioblastoma-radiosensitivity-dataset...   \n",
       "177               8  ../input/glioblastoma-radiosensitivity-dataset...   \n",
       "178               8  ../input/glioblastoma-radiosensitivity-dataset...   \n",
       "179               8  ../input/glioblastoma-radiosensitivity-dataset...   \n",
       "180               8  ../input/glioblastoma-radiosensitivity-dataset...   \n",
       "\n",
       "                       code_file group  \n",
       "0     0gy_n1_201104.nd2u2510Gy1A    n1  \n",
       "1    0gy_n1_201104.nd2u2510GyA3A    n1  \n",
       "2     0gy_n1_2020 11 04 .0Gy B2A    n1  \n",
       "3       0gy_n1_2020 11 04 0Gy 1A    n1  \n",
       "4      0gy_n1_2020 11 04 0Gy A2B    n1  \n",
       "..                           ...   ...  \n",
       "176    8gy_n3_2021 11 11 8Gy B4C    n3  \n",
       "177    8gy_n3_2021 11 11 8Gy C3A    n3  \n",
       "178    8gy_n3_2021 11 11 8Gy C3C    n3  \n",
       "179    8gy_n3_2021 11 11 8Gy C4A    n3  \n",
       "180    8gy_n3_2021 11 11 8Gy C4C    n3  \n",
       "\n",
       "[181 rows x 4 columns]"
      ]
     },
     "execution_count": 11,
     "metadata": {},
     "output_type": "execute_result"
    }
   ],
   "source": [
    "struct = import_files(path)\n",
    "\n",
    "struct"
   ]
  },
  {
   "cell_type": "code",
   "execution_count": null,
   "id": "b1fd1dbf-29d8-456b-bbad-b1f0f6b90db6",
   "metadata": {},
   "outputs": [],
   "source": []
  }
 ],
 "metadata": {
  "kernelspec": {
   "display_name": "Python 3 (ipykernel)",
   "language": "python",
   "name": "python3"
  },
  "language_info": {
   "codemirror_mode": {
    "name": "ipython",
    "version": 3
   },
   "file_extension": ".py",
   "mimetype": "text/x-python",
   "name": "python",
   "nbconvert_exporter": "python",
   "pygments_lexer": "ipython3",
   "version": "3.9.7"
  }
 },
 "nbformat": 4,
 "nbformat_minor": 5
}
